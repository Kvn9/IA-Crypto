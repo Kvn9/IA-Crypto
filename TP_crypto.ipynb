{
 "cells": [
  {
   "cell_type": "code",
   "execution_count": null,
   "id": "badb8b60",
   "metadata": {},
   "outputs": [],
   "source": [
    "# pip install yfinance tensorflow scikit-learn pandas joblib\n",
    "import yfinance as yf, numpy as np, pandas as pd, joblib\n",
    "from sklearn.preprocessing import MinMaxScaler\n",
    "from tensorflow.keras.models import Sequential\n",
    "from tensorflow.keras.layers import LSTM, Dense"
   ]
  },
  {
   "cell_type": "code",
   "execution_count": null,
   "id": "9a798bc4",
   "metadata": {},
   "outputs": [
    {
     "name": "stderr",
     "output_type": "stream",
     "text": [
      "[*********************100%***********************]  1 of 1 completed\n",
      "\n"
     ]
    }
   ],
   "source": [
    "# Télécahrgement des données historiques de Bitcoin\n",
    "\n",
    "symbol = \"BTC-USD\"; interval = \"1h\"; period = \"365d\"\n",
    "df = yf.download(symbol, interval=interval, period=period, auto_adjust=True).dropna()\n",
    "data = df[['Close']].astype('float32').values\n"
   ]
  },
  {
   "cell_type": "code",
   "execution_count": null,
   "id": "3ff13244",
   "metadata": {},
   "outputs": [],
   "source": [
    "# 2) --- Split temporel : train / test (pas de mélange!) ---\n",
    "train_ratio = 0.85\n",
    "split = int(len(data)*train_ratio)\n",
    "train, val = data[:split], data[split:]\n",
    "\n"
   ]
  },
  {
   "cell_type": "code",
   "execution_count": null,
   "id": "94678590",
   "metadata": {},
   "outputs": [],
   "source": [
    "# 3) --- Normalisation (fit sur TRAIN uniquement pour éviter la fuite de données) ---\n",
    "scaler = MinMaxScaler()\n",
    "train_s = scaler.fit_transform(train)\n",
    "val_s   = scaler.transform(val)\n",
    "\n",
    "look_back = 72\n",
    "def make_xy(series, L):\n",
    "    X, y = [], []\n",
    "    for i in range(L, len(series)):\n",
    "        X.append(series[i-L:i])\n",
    "        y.append(series[i])\n",
    "    return np.array(X), np.array(y)\n",
    "\n",
    "Xtr, ytr = make_xy(train_s, look_back)\n",
    "Xva, yva = make_xy(val_s, look_back)"
   ]
  },
  {
   "cell_type": "code",
   "execution_count": null,
   "id": "30772d96",
   "metadata": {},
   "outputs": [],
   "source": [
    "model = Sequential([\n",
    "    LSTM(64, input_shape=(look_back,1)),\n",
    "    Dense(1)\n",
    "])\n",
    "model.compile(optimizer='adam', loss='mse')\n",
    "model.fit(Xtr, ytr, validation_data=(Xva, yva), epochs=15, batch_size=32)\n",
    "\n",
    "# Sauvegarde\n",
    "model.save(\"model.h5\")\n",
    "joblib.dump({\"scaler\": scaler, \"look_back\": look_back}, \"preproc.pkl\")\n",
    "print(\"OK: model.h5 + preproc.pkl\")\n"
   ]
  }
 ],
 "metadata": {
  "kernelspec": {
   "display_name": "tfcpu",
   "language": "python",
   "name": "python3"
  },
  "language_info": {
   "codemirror_mode": {
    "name": "ipython",
    "version": 3
   },
   "file_extension": ".py",
   "mimetype": "text/x-python",
   "name": "python",
   "nbconvert_exporter": "python",
   "pygments_lexer": "ipython3",
   "version": "3.10.18"
  }
 },
 "nbformat": 4,
 "nbformat_minor": 5
}
